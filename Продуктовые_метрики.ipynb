{
  "nbformat": 4,
  "nbformat_minor": 0,
  "metadata": {
    "colab": {
      "provenance": [],
      "include_colab_link": true
    },
    "kernelspec": {
      "name": "python3",
      "display_name": "Python 3"
    },
    "language_info": {
      "name": "python"
    }
  },
  "cells": [
    {
      "cell_type": "markdown",
      "metadata": {
        "id": "view-in-github",
        "colab_type": "text"
      },
      "source": [
        "<a href=\"https://colab.research.google.com/github/AlekseyZykov/Python/blob/main/%D0%9F%D1%80%D0%BE%D0%B4%D1%83%D0%BA%D1%82%D0%BE%D0%B2%D1%8B%D0%B5_%D0%BC%D0%B5%D1%82%D1%80%D0%B8%D0%BA%D0%B8.ipynb\" target=\"_parent\"><img src=\"https://colab.research.google.com/assets/colab-badge.svg\" alt=\"Open In Colab\"/></a>"
      ]
    },
    {
      "cell_type": "markdown",
      "source": [
        "## Продуктовые метрики"
      ],
      "metadata": {
        "id": "a76kQYvtrZaK"
      }
    },
    {
      "cell_type": "markdown",
      "source": [
        "**Важно!**\n",
        "\n",
        "В следующей ячейке скачиваются нужные файлы"
      ],
      "metadata": {
        "id": "n_g0sByjthz7"
      }
    },
    {
      "cell_type": "code",
      "source": [
        "!wget https://gist.github.com/Vs8th/739269a03f2f4a7396d04d6739da3771/raw/registrations.csv\n",
        "\n",
        "!wget https://gist.github.com/Vs8th/aacb80595d1d6aaa2e31eb735f8bc644/raw/entries.csv\n",
        "\n",
        "!wget https://gist.github.com/Vs8th/0e827e9a608117345dd6585ab81e8c86/raw/metrics.txt"
      ],
      "metadata": {
        "id": "cwqL9liJrcQJ",
        "cellView": "code"
      },
      "execution_count": null,
      "outputs": []
    },
    {
      "cell_type": "markdown",
      "source": [
        "Файлы выглядят следующим образом"
      ],
      "metadata": {
        "id": "6VqKD1Y7uB2s"
      }
    },
    {
      "cell_type": "code",
      "source": [
        "import pandas as pd\n",
        "reg = pd.read_csv('registrations.csv', sep=';')\n",
        "reg.head()"
      ],
      "metadata": {
        "id": "IxoL_N5gtfAk"
      },
      "execution_count": null,
      "outputs": []
    },
    {
      "cell_type": "code",
      "source": [
        "ent = pd.read_csv('entries.csv', sep=';')\n",
        "ent.head()"
      ],
      "metadata": {
        "id": "OU5m0-VPtw7r"
      },
      "execution_count": null,
      "outputs": []
    },
    {
      "cell_type": "code",
      "source": [
        "# Подготовка таблиц к работе\n",
        "\n",
        "with open('registrations.csv') as f:\n",
        "    reg_rows = f.readlines()[1:]  # пропускаем строку заголовка\n",
        "\n",
        "# собираем первый файл в список словарей\n",
        "registrations = []\n",
        "for row in reg_rows:\n",
        "    user_id = int(row.split(\";\")[0])\n",
        "    registration_date = row.split(\";\")[1].strip()\n",
        "    registrations.append({\"user_id\": user_id, \"registration_date\": registration_date})\n",
        "\n",
        "# то же самое с вторым файлом\n",
        "with open('entries.csv') as f:\n",
        "    entries_rows = f.readlines()[1:]\n",
        "\n",
        "entries = []\n",
        "for row in entries_rows:\n",
        "    user_id = int(row.split(\";\")[0])\n",
        "    entry_date = row.split(\";\")[1].strip()\n",
        "    entries.append({\"user_id\": user_id, \"entry_date\": entry_date})\n",
        "    # Убераем записи о входах, где один юзер зашел дважды за день\n",
        "\n",
        "users_on_day = set()\n",
        "\n",
        "filtered_entries = []\n",
        "\n",
        "for entry in entries:\n",
        "    user_id = entry['user_id']\n",
        "    entry_date = entry['entry_date']\n",
        "\n",
        "    if (user_id, entry_date) in users_on_day:\n",
        "        continue\n",
        "    else:\n",
        "        users_on_day.add((user_id, entry_date))\n",
        "        filtered_entries.append(entry)"
      ],
      "metadata": {
        "id": "Ej5Zfx5PuXIN"
      },
      "execution_count": null,
      "outputs": []
    },
    {
      "cell_type": "markdown",
      "source": [
        "#### Retention 15 дня для пользователей, зарегистрированных в январе\n"
      ],
      "metadata": {
        "id": "Hm3tZ17EuMrs"
      }
    },
    {
      "cell_type": "code",
      "source": [
        "from datetime import datetime\n",
        "\n",
        "# фильтруем январские регистрации\n",
        "january_registrations = []\n",
        "for registration in registrations:\n",
        "    if registration[\"registration_date\"].split(\"-\")[1] == \"01\":\n",
        "        january_registrations.append(registration)\n",
        "\n",
        "# объединяем по user_id январские регистрации и входы\n",
        "merged = []\n",
        "for registration in january_registrations:\n",
        "    for entry in filtered_entries:\n",
        "        if entry[\"user_id\"] == registration[\"user_id\"]:\n",
        "            merged.append({\"user_id\": entry[\"user_id\"], \"registration_date\": registration[\"registration_date\"], \"entry_date\": entry[\"entry_date\"]})\n",
        "\n",
        "# считаем количество дней с регистрации\n",
        "days_since_registration = []\n",
        "for m in merged:\n",
        "    registration_date = datetime.strptime(m[\"registration_date\"], \"%Y-%m-%d\")\n",
        "    entry_date = datetime.strptime(m[\"entry_date\"], \"%Y-%m-%d\")\n",
        "    days = (entry_date - registration_date).days\n",
        "    days_since_registration.append({\"user_id\": m[\"user_id\"], \"days_since_registration\": days})\n",
        "\n",
        "# фильтруем тех, кто вернулся в 15 день\n",
        "returned_in_15_days = set()\n",
        "for d in days_since_registration:\n",
        "    if d[\"days_since_registration\"] == 15:\n",
        "        returned_in_15_days.add(d['user_id'])\n",
        "\n",
        "# считаем retention\n",
        "retention_15_day = round(len(returned_in_15_days) / len(january_registrations) * 100, 5)\n",
        "round(retention_15_day, 5)"
      ],
      "metadata": {
        "id": "hTIqdrGKuAX7"
      },
      "execution_count": null,
      "outputs": []
    },
    {
      "cell_type": "markdown",
      "source": [
        "#### Rolling-retention 30 дня для пользователей из той же когорты\n"
      ],
      "metadata": {
        "id": "a0AYpJF60bBC"
      }
    },
    {
      "cell_type": "code",
      "source": [
        "# создаем множество для хранения юзеров зашедших в 30 день или после\n",
        "rolling_retention_rates = set()\n",
        "\n",
        "for i in days_since_registration:\n",
        "    if i['days_since_registration'] >= 30:\n",
        "        rolling_retention_rates.add(i['user_id'])\n",
        "\n",
        "# считаем rolling retention\n",
        "rolling_retention = round(len(rolling_retention_rates)/len(january_registrations) * 100, 5)\n",
        "round(rolling_retention, 5)"
      ],
      "metadata": {
        "id": "sKxDRtbZuo5X"
      },
      "execution_count": null,
      "outputs": []
    },
    {
      "cell_type": "markdown",
      "source": [
        "#### Lifetime по всем пользователям, посчитанный как интеграл от n-day retention\n"
      ],
      "metadata": {
        "id": "fzX2VoX40k3P"
      }
    },
    {
      "cell_type": "code",
      "source": [
        "# объединяем регистрации и отфильтрованные входы по user_id\n",
        "mergedallusers = []\n",
        "for registration in registrations:\n",
        "    for entry in filtered_entries:\n",
        "        if entry[\"user_id\"] == registration[\"user_id\"]:\n",
        "            mergedallusers.append({\"user_id\": entry[\"user_id\"], \"registration_date\": registration[\"registration_date\"], \"entry_date\": entry[\"entry_date\"]})\n",
        "\n",
        "# считаем количество дней с регистрации для каждого входа каждого пользователя\n",
        "days_since_registration_all = []\n",
        "for m in mergedallusers:\n",
        "    from datetime import datetime\n",
        "    registration_date = datetime.strptime(m[\"registration_date\"], \"%Y-%m-%d\")\n",
        "    entry_date = datetime.strptime(m[\"entry_date\"], \"%Y-%m-%d\")\n",
        "    days = (entry_date - registration_date).days\n",
        "    days_since_registration_all.append({\"user_id\": m[\"user_id\"], \"days_since_registration\": days})\n",
        "\n",
        "counts = {}\n",
        "for entry in days_since_registration_all:\n",
        "    days_since_registration = entry['days_since_registration']\n",
        "    if days_since_registration not in counts:\n",
        "        counts[days_since_registration] = 0\n",
        "    counts[days_since_registration] += 1\n",
        "each_day_ret = dict(sorted(counts.items()))\n",
        "\n",
        "day_zero_count = each_day_ret[0]\n",
        "lifetime = 0\n",
        "\n",
        "for day, count in each_day_ret.items():\n",
        "    lifetime += (count / day_zero_count)\n",
        "\n",
        "lifetime = round(lifetime, 5)"
      ],
      "metadata": {
        "id": "nn5T6VE30hxo"
      },
      "execution_count": null,
      "outputs": []
    },
    {
      "cell_type": "markdown",
      "source": [
        "#### Churn rate 29 дня, посчитанный по всем пользователям\n"
      ],
      "metadata": {
        "id": "6CIvo6eGIJpO"
      }
    },
    {
      "cell_type": "code",
      "source": [
        "cr_29 = set()\n",
        "# churn rate n дня - юзеры которые на n день отвалились от продукта.\n",
        "# Проверяем были ли у них заходы после n дня,\n",
        "# если были, то добавляем в сет.\n",
        "for i in days_since_registration_all:\n",
        "    if i['days_since_registration'] >= 29:\n",
        "        cr_29.add(i['user_id'])\n",
        "\n",
        "churn_29 = (len(registrations)-len(cr_29))/len(registrations)\n",
        "churn_29"
      ],
      "metadata": {
        "id": "tl-yds9Zi39p"
      },
      "execution_count": null,
      "outputs": []
    },
    {
      "cell_type": "markdown",
      "source": [
        "#### Mau / wau / dau (разные способы расчета - за последний месяц, усредненные за весь период и т.д.)"
      ],
      "metadata": {
        "id": "X1oYnM_8ISoQ"
      }
    },
    {
      "cell_type": "markdown",
      "source": [
        "##### Mau, wau, dau за последний месяц/неделю/день записей\n",
        "\n",
        "\n",
        "**Примечание:** последний месяц записей - декабрь. Поэтому `mau` рассчитываем для декабря (2021 года), для `wau` берем последнюю неделю - с 25 по 31 декабря, и для `dau` соответственно последний день - 31 декабря."
      ],
      "metadata": {
        "id": "9HmaX79DIUgQ"
      }
    },
    {
      "cell_type": "code",
      "source": [
        "# получаем входы за декабрь\n",
        "december_user_entries = []\n",
        "for i in filtered_entries:\n",
        "    if i['entry_date'][:4] == \"2021\" and i['entry_date'][5:7] == '12':\n",
        "        december_user_entries.append(i)"
      ],
      "metadata": {
        "id": "ukpMNf6XIQb6"
      },
      "execution_count": null,
      "outputs": []
    },
    {
      "cell_type": "code",
      "source": [
        "# рассчитываем mau\n",
        "\n",
        "december_2022_mau = set()\n",
        "for i in december_user_entries:\n",
        "    december_2022_mau.add(i['user_id'])\n",
        "\n",
        "dec_mau = len(december_2022_mau)"
      ],
      "metadata": {
        "id": "LcJiL_zCIY_f"
      },
      "execution_count": null,
      "outputs": []
    },
    {
      "cell_type": "code",
      "source": [
        "# тоже самое для wau\n",
        "\n",
        "december_wau = set()\n",
        "for i in december_user_entries:\n",
        "    if i['entry_date'][-2:] in ('25', '26', '27', '28', '29', '30', '31'):\n",
        "        december_wau.add(i['user_id'])\n",
        "\n",
        "dec_wau = len(december_wau)"
      ],
      "metadata": {
        "id": "6GtWymVMIbZ1"
      },
      "execution_count": null,
      "outputs": []
    },
    {
      "cell_type": "code",
      "source": [
        "# dau\n",
        "\n",
        "december_dau = set()\n",
        "for i in december_user_entries:\n",
        "    if i['entry_date'][-2:] == '31':\n",
        "        december_dau.add(i['user_id'])\n",
        "\n",
        "dec_dau = len(december_dau)"
      ],
      "metadata": {
        "id": "tdPgB4OxIdpv"
      },
      "execution_count": null,
      "outputs": []
    },
    {
      "cell_type": "markdown",
      "source": [
        "##### Mau/wau/dau усредненные"
      ],
      "metadata": {
        "id": "tliXGNYIIhjc"
      }
    },
    {
      "cell_type": "code",
      "source": [
        "from collections import defaultdict\n",
        "\n",
        "# Создаем defaultdict для хранения уникальных юзеров каждог месяца\n",
        "counts_avg = defaultdict(set)\n",
        "\n",
        "# Проходим по входам\n",
        "for line in entries_rows:\n",
        "    # Выделим user_id и дату входа\n",
        "    user_id, entry_date = line.strip().split(';')\n",
        "\n",
        "    # Вытаскиваем год и месяц\n",
        "    year, month = entry_date.split('-')[:2]\n",
        "\n",
        "    # Используем год и месяц в качестве ключа\n",
        "    key = f\"{year}-{month}\"\n",
        "    counts_avg[key].add(user_id)\n",
        "\n",
        "# Конвертируем множество пользователей в количество уникальных пользователей\n",
        "count_of_unique_user_ids = {}\n",
        "for key, value in counts_avg.items():\n",
        "    count_of_unique_user_ids[key] = len(value)"
      ],
      "metadata": {
        "id": "H07WWfdNIfXn"
      },
      "execution_count": null,
      "outputs": []
    },
    {
      "cell_type": "code",
      "source": [
        "# рассчитываем усредненный mau\n",
        "\n",
        "sum = 0\n",
        "for key, value in count_of_unique_user_ids.items():\n",
        "    sum += value\n",
        "\n",
        "avg_mau = round(sum/len(count_of_unique_user_ids), 5)"
      ],
      "metadata": {
        "id": "qp2RLf2DIkZ3"
      },
      "execution_count": null,
      "outputs": []
    },
    {
      "cell_type": "code",
      "source": [
        "from collections import defaultdict\n",
        "\n",
        "from datetime import datetime\n",
        "\n",
        "counts = defaultdict(set)\n",
        "\n",
        "for line in entries_rows:\n",
        "    user_id, entry_date = line.strip().split(';')\n",
        "\n",
        "    # Преобразуем строку с датой в объект datetime\n",
        "    date_obj = datetime.strptime(entry_date, '%Y-%m-%d')\n",
        "\n",
        "    # Получаем номер недели в году и год с помощью метода isocalendar()\n",
        "    year, week_num, _ = date_obj.isocalendar()\n",
        "\n",
        "    # Формируем ключ в формате \"ГОД-НОМЕР_НЕДЕЛИ\"\n",
        "    key = f\"{year}-{week_num}\"\n",
        "    counts[key].add(user_id)\n",
        "\n",
        "# Конвертируем множество пользователей в количество уникальных пользователей\n",
        "count_of_unique_user_ids = {}\n",
        "for key, value in counts.items():\n",
        "    count_of_unique_user_ids[key] = len(value)\n"
      ],
      "metadata": {
        "id": "jzMnguR3c-oW"
      },
      "execution_count": null,
      "outputs": []
    },
    {
      "cell_type": "code",
      "source": [
        "# считаем усредненный wau\n",
        "\n",
        "sum = 0\n",
        "for key, value in count_of_unique_user_ids.items():\n",
        "    sum += value\n",
        "\n",
        "avg_wau = round(sum/len(count_of_unique_user_ids), 5)"
      ],
      "metadata": {
        "id": "R8J3sr68IpEf"
      },
      "execution_count": null,
      "outputs": []
    },
    {
      "cell_type": "code",
      "source": [
        "# Все то же самое для каждого дня\n",
        "counts = defaultdict(set)\n",
        "\n",
        "for line in entries_rows:\n",
        "    user_id, entry_date = line.strip().split(';')\n",
        "\n",
        "    # В качестве ключа используем дату входа\n",
        "    counts[entry_date].add(user_id)\n",
        "\n",
        "# Конвертируем множество пользователей в количество уникальных пользователей\n",
        "count_of_unique_user_ids = {}\n",
        "for key, value in counts.items():\n",
        "    count_of_unique_user_ids[key] = len(value)\n",
        "\n",
        "sum = 0\n",
        "for key, value in count_of_unique_user_ids.items():\n",
        "    sum += value\n",
        "\n",
        "avg_dau = round(sum/len(count_of_unique_user_ids), 5)"
      ],
      "metadata": {
        "id": "qYn0v2h9IqtZ"
      },
      "execution_count": null,
      "outputs": []
    }
  ]
}